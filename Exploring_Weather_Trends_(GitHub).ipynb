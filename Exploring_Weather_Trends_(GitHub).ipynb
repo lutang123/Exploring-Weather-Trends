{
 "cells": [
  {
   "cell_type": "markdown",
   "metadata": {},
   "source": [
    "# Project: Exploring Weather Trends\n",
    "\n",
    "--by Lu Tang"
   ]
  },
  {
   "cell_type": "markdown",
   "metadata": {},
   "source": [
    "## Table of Contents\n",
    "<ul>\n",
    "<li><a href=\"#intro\">Introduction</a></li>\n",
    "<li><a href=\"#wrangling\">Data Wrangling</a></li>\n",
    "<li><a href=\"#eda\">Exploratory Data Analysis</a></li>\n",
    "<li><a href=\"#conclusions\">Conclusions</a></li>\n",
    "</ul>"
   ]
  },
  {
   "cell_type": "markdown",
   "metadata": {},
   "source": [
    "<a id='intro'></a>\n",
    "## Introduction\n",
    ">The purpose of this project is to analyze data for the differences and similarities in temperature trends between global and the city Xi’an, China, which is my hometown. The project will look answers for the following questions:\n",
    ">- Is Xi’an hotter or cooler on average compared to the global?\n",
    ">- Has the difference been consistent over time?\n",
    ">- What are the overall trends for Xi’an and the world? Are they getting hotter or cooler over time?\n",
    ">- Are the overall trends consistent?\n",
    "\n",
    "**The tools used in the project:** \n",
    "\n",
    "SQL and Python, Pandas, Matplotlib and Seaborn"
   ]
  },
  {
   "cell_type": "markdown",
   "metadata": {},
   "source": [
    "<a id='wrangling'></a>\n",
    "## Data Wrangling"
   ]
  },
  {
   "cell_type": "markdown",
   "metadata": {},
   "source": [
    "### Step 1. Getting and exploring the data"
   ]
  },
  {
   "cell_type": "markdown",
   "metadata": {},
   "source": [
    "The data is stored in database, in order to understand the data, I extracted all the data from three tables using SQL, I then use Pandas to analyze and understand how the three tables are related. I discovered the following:\n",
    "- The ‘year’ column is the foreign key to relate the table of 'city_data' and 'global_data';\n",
    "- The data in the database is not sorted, but it appears like sorted from first and last few rows. *In the table of 'city_data', the 'year' starts from 1849 and it looks like ascending by year and ends at the year of 2013*. *While in the table of 'global_data', the 'year' starts from the 1750 to 2015, also ascending by year*. However after I join the two tables, I found the new table has fewer rows than the original 'city_data'. If the 'city_data' is from 1849 to 2013 as the first and last few rows show, then the joined table should have the same rows as the 'city_data', but it is not, which means the 'city_data' has longer year expand than the ‘year’ in the global_data. After sorting city_data, *I found the ‘year’ in 'city_data' starts from 1743 to 2013*. After joining two tables, the year range is from 1750 to 2013.\n",
    "- After understanding the data, I then wrote a SQL to get the data we need for this project."
   ]
  },
  {
   "cell_type": "markdown",
   "metadata": {},
   "source": [
    "**The SQL query to extra data**\n",
    "\n",
    "- SELECT c.*, g.avg_temp avg_temp_global\n",
    "- FROM city_data c\n",
    "- JOIN global_data g\n",
    "- ON c.year=g.year\n",
    "- WHERE c.city='Xian'\n",
    "- ORDER BY year \n",
    "\n",
    "Saved as 'results.csv'"
   ]
  },
  {
   "cell_type": "markdown",
   "metadata": {},
   "source": [
    "**Data Description:**\n",
    "- year (from 1820 to 2013)\n",
    "- city (we have selected for the city of 'xi'an')\n",
    "- country (the country is China)\n",
    "- avg_temp (the average temperature for Xian )  \n",
    "- avg_temp_y (the average temperature for global)"
   ]
  },
  {
   "cell_type": "markdown",
   "metadata": {},
   "source": [
    "### Step 2. Data cleaning"
   ]
  },
  {
   "cell_type": "code",
   "execution_count": 5,
   "metadata": {},
   "outputs": [
    {
     "data": {
      "text/html": [
       "<div>\n",
       "<style scoped>\n",
       "    .dataframe tbody tr th:only-of-type {\n",
       "        vertical-align: middle;\n",
       "    }\n",
       "\n",
       "    .dataframe tbody tr th {\n",
       "        vertical-align: top;\n",
       "    }\n",
       "\n",
       "    .dataframe thead th {\n",
       "        text-align: right;\n",
       "    }\n",
       "</style>\n",
       "<table border=\"1\" class=\"dataframe\">\n",
       "  <thead>\n",
       "    <tr style=\"text-align: right;\">\n",
       "      <th></th>\n",
       "      <th>year</th>\n",
       "      <th>city</th>\n",
       "      <th>country</th>\n",
       "      <th>avg_temp</th>\n",
       "      <th>avg_temp_global</th>\n",
       "    </tr>\n",
       "  </thead>\n",
       "  <tbody>\n",
       "    <tr>\n",
       "      <th>0</th>\n",
       "      <td>1820</td>\n",
       "      <td>Xian</td>\n",
       "      <td>China</td>\n",
       "      <td>9.55</td>\n",
       "      <td>7.62</td>\n",
       "    </tr>\n",
       "    <tr>\n",
       "      <th>1</th>\n",
       "      <td>1821</td>\n",
       "      <td>Xian</td>\n",
       "      <td>China</td>\n",
       "      <td>11.12</td>\n",
       "      <td>8.09</td>\n",
       "    </tr>\n",
       "    <tr>\n",
       "      <th>2</th>\n",
       "      <td>1822</td>\n",
       "      <td>Xian</td>\n",
       "      <td>China</td>\n",
       "      <td>11.16</td>\n",
       "      <td>8.19</td>\n",
       "    </tr>\n",
       "    <tr>\n",
       "      <th>3</th>\n",
       "      <td>1823</td>\n",
       "      <td>Xian</td>\n",
       "      <td>China</td>\n",
       "      <td>11.76</td>\n",
       "      <td>7.72</td>\n",
       "    </tr>\n",
       "    <tr>\n",
       "      <th>4</th>\n",
       "      <td>1824</td>\n",
       "      <td>Xian</td>\n",
       "      <td>China</td>\n",
       "      <td>NaN</td>\n",
       "      <td>8.55</td>\n",
       "    </tr>\n",
       "  </tbody>\n",
       "</table>\n",
       "</div>"
      ],
      "text/plain": [
       "   year  city country  avg_temp  avg_temp_global\n",
       "0  1820  Xian   China      9.55             7.62\n",
       "1  1821  Xian   China     11.12             8.09\n",
       "2  1822  Xian   China     11.16             8.19\n",
       "3  1823  Xian   China     11.76             7.72\n",
       "4  1824  Xian   China       NaN             8.55"
      ]
     },
     "execution_count": 5,
     "metadata": {},
     "output_type": "execute_result"
    }
   ],
   "source": [
    "# loading data in pandas and display first 5 rows\n",
    "import pandas as pd\n",
    "df=pd.read_csv('results.csv')\n",
    "df.head()"
   ]
  },
  {
   "cell_type": "code",
   "execution_count": 6,
   "metadata": {},
   "outputs": [
    {
     "data": {
      "text/html": [
       "<div>\n",
       "<style scoped>\n",
       "    .dataframe tbody tr th:only-of-type {\n",
       "        vertical-align: middle;\n",
       "    }\n",
       "\n",
       "    .dataframe tbody tr th {\n",
       "        vertical-align: top;\n",
       "    }\n",
       "\n",
       "    .dataframe thead th {\n",
       "        text-align: right;\n",
       "    }\n",
       "</style>\n",
       "<table border=\"1\" class=\"dataframe\">\n",
       "  <thead>\n",
       "    <tr style=\"text-align: right;\">\n",
       "      <th></th>\n",
       "      <th>year</th>\n",
       "      <th>city</th>\n",
       "      <th>country</th>\n",
       "      <th>avg_temp</th>\n",
       "      <th>avg_temp_global</th>\n",
       "    </tr>\n",
       "  </thead>\n",
       "  <tbody>\n",
       "    <tr>\n",
       "      <th>189</th>\n",
       "      <td>2009</td>\n",
       "      <td>Xian</td>\n",
       "      <td>China</td>\n",
       "      <td>12.53</td>\n",
       "      <td>9.51</td>\n",
       "    </tr>\n",
       "    <tr>\n",
       "      <th>190</th>\n",
       "      <td>2010</td>\n",
       "      <td>Xian</td>\n",
       "      <td>China</td>\n",
       "      <td>12.59</td>\n",
       "      <td>9.70</td>\n",
       "    </tr>\n",
       "    <tr>\n",
       "      <th>191</th>\n",
       "      <td>2011</td>\n",
       "      <td>Xian</td>\n",
       "      <td>China</td>\n",
       "      <td>12.08</td>\n",
       "      <td>9.52</td>\n",
       "    </tr>\n",
       "    <tr>\n",
       "      <th>192</th>\n",
       "      <td>2012</td>\n",
       "      <td>Xian</td>\n",
       "      <td>China</td>\n",
       "      <td>11.90</td>\n",
       "      <td>9.51</td>\n",
       "    </tr>\n",
       "    <tr>\n",
       "      <th>193</th>\n",
       "      <td>2013</td>\n",
       "      <td>Xian</td>\n",
       "      <td>China</td>\n",
       "      <td>14.46</td>\n",
       "      <td>9.61</td>\n",
       "    </tr>\n",
       "  </tbody>\n",
       "</table>\n",
       "</div>"
      ],
      "text/plain": [
       "     year  city country  avg_temp  avg_temp_global\n",
       "189  2009  Xian   China     12.53             9.51\n",
       "190  2010  Xian   China     12.59             9.70\n",
       "191  2011  Xian   China     12.08             9.52\n",
       "192  2012  Xian   China     11.90             9.51\n",
       "193  2013  Xian   China     14.46             9.61"
      ]
     },
     "execution_count": 6,
     "metadata": {},
     "output_type": "execute_result"
    }
   ],
   "source": [
    "# display last 5 rows\n",
    "df.tail()"
   ]
  },
  {
   "cell_type": "code",
   "execution_count": 7,
   "metadata": {},
   "outputs": [
    {
     "data": {
      "text/html": [
       "<div>\n",
       "<style scoped>\n",
       "    .dataframe tbody tr th:only-of-type {\n",
       "        vertical-align: middle;\n",
       "    }\n",
       "\n",
       "    .dataframe tbody tr th {\n",
       "        vertical-align: top;\n",
       "    }\n",
       "\n",
       "    .dataframe thead th {\n",
       "        text-align: right;\n",
       "    }\n",
       "</style>\n",
       "<table border=\"1\" class=\"dataframe\">\n",
       "  <thead>\n",
       "    <tr style=\"text-align: right;\">\n",
       "      <th></th>\n",
       "      <th>avg_temp_xian</th>\n",
       "      <th>avg_temp_global</th>\n",
       "    </tr>\n",
       "    <tr>\n",
       "      <th>year</th>\n",
       "      <th></th>\n",
       "      <th></th>\n",
       "    </tr>\n",
       "  </thead>\n",
       "  <tbody>\n",
       "    <tr>\n",
       "      <th>1820</th>\n",
       "      <td>9.55</td>\n",
       "      <td>7.62</td>\n",
       "    </tr>\n",
       "    <tr>\n",
       "      <th>1821</th>\n",
       "      <td>11.12</td>\n",
       "      <td>8.09</td>\n",
       "    </tr>\n",
       "    <tr>\n",
       "      <th>1822</th>\n",
       "      <td>11.16</td>\n",
       "      <td>8.19</td>\n",
       "    </tr>\n",
       "    <tr>\n",
       "      <th>1823</th>\n",
       "      <td>11.76</td>\n",
       "      <td>7.72</td>\n",
       "    </tr>\n",
       "    <tr>\n",
       "      <th>1824</th>\n",
       "      <td>NaN</td>\n",
       "      <td>8.55</td>\n",
       "    </tr>\n",
       "  </tbody>\n",
       "</table>\n",
       "</div>"
      ],
      "text/plain": [
       "      avg_temp_xian  avg_temp_global\n",
       "year                                \n",
       "1820           9.55             7.62\n",
       "1821          11.12             8.09\n",
       "1822          11.16             8.19\n",
       "1823          11.76             7.72\n",
       "1824            NaN             8.55"
      ]
     },
     "execution_count": 7,
     "metadata": {},
     "output_type": "execute_result"
    }
   ],
   "source": [
    "# rename 'avg_temp'\n",
    "df.rename({'avg_temp':'avg_temp_xian'},axis=1,inplace=True)\n",
    "# set column 'year' as index\n",
    "df.index=df['year']\n",
    "# delete unneccesary rows\n",
    "df.drop(['year','city','country'],axis=1, inplace=True)\n",
    "#check the result\n",
    "df.head(5)"
   ]
  },
  {
   "cell_type": "code",
   "execution_count": 8,
   "metadata": {},
   "outputs": [
    {
     "name": "stdout",
     "output_type": "stream",
     "text": [
      "<class 'pandas.core.frame.DataFrame'>\n",
      "Int64Index: 194 entries, 1820 to 2013\n",
      "Data columns (total 2 columns):\n",
      "avg_temp_xian      179 non-null float64\n",
      "avg_temp_global    194 non-null float64\n",
      "dtypes: float64(2)\n",
      "memory usage: 4.5 KB\n"
     ]
    }
   ],
   "source": [
    "df.info()"
   ]
  },
  {
   "cell_type": "code",
   "execution_count": 9,
   "metadata": {},
   "outputs": [
    {
     "data": {
      "text/plain": [
       "avg_temp_xian      15\n",
       "avg_temp_global     0\n",
       "dtype: int64"
      ]
     },
     "execution_count": 9,
     "metadata": {},
     "output_type": "execute_result"
    }
   ],
   "source": [
    "# Check sum of NaN data\n",
    "df.isnull().sum()"
   ]
  },
  {
   "cell_type": "code",
   "execution_count": 10,
   "metadata": {},
   "outputs": [],
   "source": [
    "# Drop null since there is less then 10% of the data\n",
    "df.dropna(inplace=True)"
   ]
  },
  {
   "cell_type": "markdown",
   "metadata": {},
   "source": [
    "<a id='eda'></a>\n",
    "## Exploratory Data Analysis"
   ]
  },
  {
   "cell_type": "code",
   "execution_count": 11,
   "metadata": {},
   "outputs": [
    {
     "data": {
      "text/html": [
       "<div>\n",
       "<style scoped>\n",
       "    .dataframe tbody tr th:only-of-type {\n",
       "        vertical-align: middle;\n",
       "    }\n",
       "\n",
       "    .dataframe tbody tr th {\n",
       "        vertical-align: top;\n",
       "    }\n",
       "\n",
       "    .dataframe thead th {\n",
       "        text-align: right;\n",
       "    }\n",
       "</style>\n",
       "<table border=\"1\" class=\"dataframe\">\n",
       "  <thead>\n",
       "    <tr style=\"text-align: right;\">\n",
       "      <th></th>\n",
       "      <th>avg_temp_xian</th>\n",
       "      <th>avg_temp_global</th>\n",
       "      <th>moving_avg_xian</th>\n",
       "      <th>moving_avg_global</th>\n",
       "    </tr>\n",
       "    <tr>\n",
       "      <th>year</th>\n",
       "      <th></th>\n",
       "      <th></th>\n",
       "      <th></th>\n",
       "      <th></th>\n",
       "    </tr>\n",
       "  </thead>\n",
       "  <tbody>\n",
       "    <tr>\n",
       "      <th>1820</th>\n",
       "      <td>9.55</td>\n",
       "      <td>7.62</td>\n",
       "      <td>NaN</td>\n",
       "      <td>NaN</td>\n",
       "    </tr>\n",
       "    <tr>\n",
       "      <th>1821</th>\n",
       "      <td>11.12</td>\n",
       "      <td>8.09</td>\n",
       "      <td>NaN</td>\n",
       "      <td>NaN</td>\n",
       "    </tr>\n",
       "    <tr>\n",
       "      <th>1822</th>\n",
       "      <td>11.16</td>\n",
       "      <td>8.19</td>\n",
       "      <td>NaN</td>\n",
       "      <td>NaN</td>\n",
       "    </tr>\n",
       "    <tr>\n",
       "      <th>1823</th>\n",
       "      <td>11.76</td>\n",
       "      <td>7.72</td>\n",
       "      <td>NaN</td>\n",
       "      <td>NaN</td>\n",
       "    </tr>\n",
       "    <tr>\n",
       "      <th>1837</th>\n",
       "      <td>21.19</td>\n",
       "      <td>7.38</td>\n",
       "      <td>NaN</td>\n",
       "      <td>NaN</td>\n",
       "    </tr>\n",
       "    <tr>\n",
       "      <th>1840</th>\n",
       "      <td>10.81</td>\n",
       "      <td>7.80</td>\n",
       "      <td>NaN</td>\n",
       "      <td>NaN</td>\n",
       "    </tr>\n",
       "    <tr>\n",
       "      <th>1841</th>\n",
       "      <td>10.26</td>\n",
       "      <td>7.69</td>\n",
       "      <td>12.264286</td>\n",
       "      <td>7.784286</td>\n",
       "    </tr>\n",
       "    <tr>\n",
       "      <th>1842</th>\n",
       "      <td>11.05</td>\n",
       "      <td>8.02</td>\n",
       "      <td>12.478571</td>\n",
       "      <td>7.841429</td>\n",
       "    </tr>\n",
       "    <tr>\n",
       "      <th>1843</th>\n",
       "      <td>11.12</td>\n",
       "      <td>8.17</td>\n",
       "      <td>12.478571</td>\n",
       "      <td>7.852857</td>\n",
       "    </tr>\n",
       "    <tr>\n",
       "      <th>1844</th>\n",
       "      <td>11.01</td>\n",
       "      <td>7.65</td>\n",
       "      <td>12.457143</td>\n",
       "      <td>7.775714</td>\n",
       "    </tr>\n",
       "  </tbody>\n",
       "</table>\n",
       "</div>"
      ],
      "text/plain": [
       "      avg_temp_xian  avg_temp_global  moving_avg_xian  moving_avg_global\n",
       "year                                                                    \n",
       "1820           9.55             7.62              NaN                NaN\n",
       "1821          11.12             8.09              NaN                NaN\n",
       "1822          11.16             8.19              NaN                NaN\n",
       "1823          11.76             7.72              NaN                NaN\n",
       "1837          21.19             7.38              NaN                NaN\n",
       "1840          10.81             7.80              NaN                NaN\n",
       "1841          10.26             7.69        12.264286           7.784286\n",
       "1842          11.05             8.02        12.478571           7.841429\n",
       "1843          11.12             8.17        12.478571           7.852857\n",
       "1844          11.01             7.65        12.457143           7.775714"
      ]
     },
     "execution_count": 11,
     "metadata": {},
     "output_type": "execute_result"
    }
   ],
   "source": [
    "# Calculating 7-year moving average for xian and global data and make it new columns\n",
    "df['moving_avg_xian']=df['avg_temp_xian'].rolling(window=7).mean()\n",
    "df['moving_avg_global']=df['avg_temp_global'].rolling(window=7).mean()\n",
    "df.head(10)"
   ]
  },
  {
   "cell_type": "markdown",
   "metadata": {},
   "source": [
    "###  Data Visualization "
   ]
  },
  {
   "cell_type": "code",
   "execution_count": 12,
   "metadata": {},
   "outputs": [
    {
     "data": {
      "text/plain": [
       "Text(0.5, 1.0, 'Weather Trends')"
      ]
     },
     "execution_count": 12,
     "metadata": {},
     "output_type": "execute_result"
    },
    {
     "data": {
      "image/png": "[encoded data removed]",
      "text/plain": [
       "<Figure size 1152x576 with 1 Axes>"
      ]
     },
     "metadata": {},
     "output_type": "display_data"
    }
   ],
   "source": [
    "import matplotlib.pyplot as plt\n",
    "%matplotlib inline\n",
    "import seaborn as sns\n",
    "sns.set(style='darkgrid', context='talk', palette='Dark2')\n",
    "\n",
    "fig,ax = plt.subplots(figsize=(16,8))\n",
    "ax.plot(df['moving_avg_xian'], label='Xian Weather Trends')\n",
    "ax.plot(df['moving_avg_global'], label='Global Weather Trends')\n",
    "\n",
    "ax.legend(loc='best')\n",
    "ax.set_xlabel('Year')\n",
    "ax.set_ylabel('Temparature')\n",
    "ax.set_title('Weather Trends')"
   ]
  },
  {
   "cell_type": "markdown",
   "metadata": {},
   "source": [
    "### Interpretation:\n",
    "- Xian’s average temperature is higher than global as the green line for Xian is higher; thus Xian is generally hotter.\n",
    "- The difference of temperature between Xian and global has been consistent over time as the gap between the two lines are similar over most of the period.\n",
    "- The overall trend for Xian and global are both increasing; both Xian and global are getting hotter.\n",
    "- There is an exception for the trend. In the earlier few years before 1850, Xian’s temperature was extremely high and then decreased sharply while globe’s temperature is climbing mildly during the period. There maybe some extreme weather in xian during that time, but as the period is relatively short, it does not affect our conclusion for the overall trend.\n",
    "- The increase rate of the temperature is higher in recent few years for both Xian and global. We can see from the chart, roughly after 1975, both lines are increasing quicker, however xian has higher fluctuation which global temperature is going up more stably. "
   ]
  },
  {
   "cell_type": "markdown",
   "metadata": {},
   "source": [
    "## Conclusion\n",
    "> In this project, I analyzed the weather trend using temperature data for Xi’an and Global from the year 1820 to 2013. We can conclude that Xi'an is a hotter place and has higher fluctuation on the weather compared with global average. However, the temperature for both Xian and global are increasing over years and particularly, it is increasing at higher rate in recent years. Furthermore, based on historical trends, we can predict that the future trend will be continuely increasing at higher rate; Our world is facing climate change and protecting the environment is very important.\n",
    "\n",
    ">**Further Notes:**\n",
    ">This project is mainly focused on EDA (Exploratory Data Analysis). To precisely predict the future trends, a robust data prediction model is needed, but this is beyond the purpose of this projects. In my other projects, there will be machine learning, data modeling and predictions. "
   ]
  }
 ],
 "metadata": {
  "kernelspec": {
   "display_name": "Python 3",
   "language": "python",
   "name": "python3"
  },
  "language_info": {
   "codemirror_mode": {
    "name": "ipython",
    "version": 3
   },
   "file_extension": ".py",
   "mimetype": "text/x-python",
   "name": "python",
   "nbconvert_exporter": "python",
   "pygments_lexer": "ipython3",
   "version": "3.7.1"
  }
 },
 "nbformat": 4,
 "nbformat_minor": 2
}
