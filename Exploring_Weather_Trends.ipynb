{
 "cells": [
  {
   "cell_type": "markdown",
   "metadata": {},
   "source": [
    "# Project: Exploring Weather Trends\n",
    "\n",
    "Lu Tang\n",
    "\n",
   ]
  },
  {
   "cell_type": "markdown",
   "metadata": {},
   "source": [
    "## Table of Contents\n",
    "<ul>\n",
    "<li><a href=\"#intro\">Introduction</a></li>\n",
    "<li><a href=\"#wrangling\">Data Wrangling</a></li>\n",
    "<li><a href=\"#eda\">Exploratory Data Analysis</a></li>\n",
    "<li><a href=\"#conclusions\">Conclusions</a></li>\n",
    "</ul>"
   ]
  },
  {
   "cell_type": "markdown",
   "metadata": {},
   "source": [
    "<a id='intro'></a>\n",
    "## Introduction\n",
    ">The purpose of this project is to analyze data for the difference and similarity between global temperature trends and temperature trends in the city Xi’an, China. The project will look answers for the following questions:\n",
    ">- Is Xi’an hotter or cooler on average compared to the global average?\n",
    ">- Has the difference been consistent over time?\n",
    ">- What are the overall trends for Xi’an and the world? Are they getting hotter or cooler over time?\n",
    ">- Are the trends consistent?\n",
    "\n",
    "**The tools used in the project:** \n",
    "\n",
    "SQL and Python, Pandas, Matplotlib, seaborn"
   ]
  },
  {
   "cell_type": "markdown",
   "metadata": {},
   "source": [
    "<a id='wrangling'></a>\n",
    "## Data Wrangling"
   ]
  },
  {
   "cell_type": "markdown",
   "metadata": {},
   "source": [
    "### Step 1. Getting and exploring the data"
   ]
  },
  {
   "cell_type": "markdown",
   "metadata": {},
   "source": [
    "The data is stored in database, in order to understand the data, I extracted all the data from three tables using SQL, I then use Python Pandas to understand how the three tables are related. I discovered the following:\n",
    "- The column ‘year’ is the key to relate the table city_data and global_data;\n",
    "- The data is not sorted. In city_data, the year starts from the year 1849 and it looks like ascending by year and ends at the year of 2013, while the global_data starts from the year 1750 to 2015, also ascending by year. However after I join the two tables, I found the new table has fewer rows than the original city_data. If the city_data is from 1849 to 2013 as the first and last few rows show, then the joined table should have the same rows as the city_data, but it is not, which means the city_data has longer year expand than the ‘year’ in the global_data. After sorting city_data, I found the ‘year’ in city data starts from 1743 to 2013. After joining two tables, the year range is from 1750 to 2013.\n",
    "- After understanding the data, I then wrote a SQL to get the data we need for this project."
   ]
  },
  {
   "cell_type": "markdown",
   "metadata": {},
   "source": [
    "**The SQL query to extra data**\n",
    "\n",
    "- SELECT c.*, g.avg_temp avg_temp_global\n",
    "- FROM city_data c\n",
    "- JOIN global_data g\n",
    "- ON c.year=g.year\n",
    "- WHERE c.city='Xian'\n",
    "- ORDER BY year \n",
    "\n",
    "Saved as 'results.csv'"
   ]
  },
  {
   "cell_type": "markdown",
   "metadata": {},
   "source": [
    "**Data Description:**\n",
    "- year (from 1820 to 2013)\n",
    "- city\n",
    "- country\n",
    "- avg_temp (the average temperature for Xian )  \n",
    "- avg_temp_y (the average temperature for global)"
   ]
  },
  {
   "cell_type": "markdown",
   "metadata": {},
   "source": [
    "### Step 2. Data cleaning"
   ]
  },
  {
   "cell_type": "code",
   "execution_count": 1,
   "metadata": {},
   "outputs": [
    {
     "data": {
      "text/html": [
       "<div>\n",
       "<style scoped>\n",
       "    .dataframe tbody tr th:only-of-type {\n",
       "        vertical-align: middle;\n",
       "    }\n",
       "\n",
       "    .dataframe tbody tr th {\n",
       "        vertical-align: top;\n",
       "    }\n",
       "\n",
       "    .dataframe thead th {\n",
       "        text-align: right;\n",
       "    }\n",
       "</style>\n",
       "<table border=\"1\" class=\"dataframe\">\n",
       "  <thead>\n",
       "    <tr style=\"text-align: right;\">\n",
       "      <th></th>\n",
       "      <th>year</th>\n",
       "      <th>city</th>\n",
       "      <th>country</th>\n",
       "      <th>avg_temp</th>\n",
       "      <th>avg_temp_global</th>\n",
       "    </tr>\n",
       "  </thead>\n",
       "  <tbody>\n",
       "    <tr>\n",
       "      <th>0</th>\n",
       "      <td>1820</td>\n",
       "      <td>Xian</td>\n",
       "      <td>China</td>\n",
       "      <td>9.55</td>\n",
       "      <td>7.62</td>\n",
       "    </tr>\n",
       "    <tr>\n",
       "      <th>1</th>\n",
       "      <td>1821</td>\n",
       "      <td>Xian</td>\n",
       "      <td>China</td>\n",
       "      <td>11.12</td>\n",
       "      <td>8.09</td>\n",
       "    </tr>\n",
       "    <tr>\n",
       "      <th>2</th>\n",
       "      <td>1822</td>\n",
       "      <td>Xian</td>\n",
       "      <td>China</td>\n",
       "      <td>11.16</td>\n",
       "      <td>8.19</td>\n",
       "    </tr>\n",
       "    <tr>\n",
       "      <th>3</th>\n",
       "      <td>1823</td>\n",
       "      <td>Xian</td>\n",
       "      <td>China</td>\n",
       "      <td>11.76</td>\n",
       "      <td>7.72</td>\n",
       "    </tr>\n",
       "    <tr>\n",
       "      <th>4</th>\n",
       "      <td>1824</td>\n",
       "      <td>Xian</td>\n",
       "      <td>China</td>\n",
       "      <td>NaN</td>\n",
       "      <td>8.55</td>\n",
       "    </tr>\n",
       "  </tbody>\n",
       "</table>\n",
       "</div>"
      ],
      "text/plain": [
       "   year  city country  avg_temp  avg_temp_global\n",
       "0  1820  Xian   China      9.55             7.62\n",
       "1  1821  Xian   China     11.12             8.09\n",
       "2  1822  Xian   China     11.16             8.19\n",
       "3  1823  Xian   China     11.76             7.72\n",
       "4  1824  Xian   China       NaN             8.55"
      ]
     },
     "execution_count": 1,
     "metadata": {},
     "output_type": "execute_result"
    }
   ],
   "source": [
    "import pandas as pd\n",
    "df=pd.read_csv('results.csv')\n",
    "df.head()"
   ]
  },
  {
   "cell_type": "code",
   "execution_count": 2,
   "metadata": {},
   "outputs": [
    {
     "data": {
      "text/html": [
       "<div>\n",
       "<style scoped>\n",
       "    .dataframe tbody tr th:only-of-type {\n",
       "        vertical-align: middle;\n",
       "    }\n",
       "\n",
       "    .dataframe tbody tr th {\n",
       "        vertical-align: top;\n",
       "    }\n",
       "\n",
       "    .dataframe thead th {\n",
       "        text-align: right;\n",
       "    }\n",
       "</style>\n",
       "<table border=\"1\" class=\"dataframe\">\n",
       "  <thead>\n",
       "    <tr style=\"text-align: right;\">\n",
       "      <th></th>\n",
       "      <th>year</th>\n",
       "      <th>city</th>\n",
       "      <th>country</th>\n",
       "      <th>avg_temp</th>\n",
       "      <th>avg_temp_global</th>\n",
       "    </tr>\n",
       "  </thead>\n",
       "  <tbody>\n",
       "    <tr>\n",
       "      <th>189</th>\n",
       "      <td>2009</td>\n",
       "      <td>Xian</td>\n",
       "      <td>China</td>\n",
       "      <td>12.53</td>\n",
       "      <td>9.51</td>\n",
       "    </tr>\n",
       "    <tr>\n",
       "      <th>190</th>\n",
       "      <td>2010</td>\n",
       "      <td>Xian</td>\n",
       "      <td>China</td>\n",
       "      <td>12.59</td>\n",
       "      <td>9.70</td>\n",
       "    </tr>\n",
       "    <tr>\n",
       "      <th>191</th>\n",
       "      <td>2011</td>\n",
       "      <td>Xian</td>\n",
       "      <td>China</td>\n",
       "      <td>12.08</td>\n",
       "      <td>9.52</td>\n",
       "    </tr>\n",
       "    <tr>\n",
       "      <th>192</th>\n",
       "      <td>2012</td>\n",
       "      <td>Xian</td>\n",
       "      <td>China</td>\n",
       "      <td>11.90</td>\n",
       "      <td>9.51</td>\n",
       "    </tr>\n",
       "    <tr>\n",
       "      <th>193</th>\n",
       "      <td>2013</td>\n",
       "      <td>Xian</td>\n",
       "      <td>China</td>\n",
       "      <td>14.46</td>\n",
       "      <td>9.61</td>\n",
       "    </tr>\n",
       "  </tbody>\n",
       "</table>\n",
       "</div>"
      ],
      "text/plain": [
       "     year  city country  avg_temp  avg_temp_global\n",
       "189  2009  Xian   China     12.53             9.51\n",
       "190  2010  Xian   China     12.59             9.70\n",
       "191  2011  Xian   China     12.08             9.52\n",
       "192  2012  Xian   China     11.90             9.51\n",
       "193  2013  Xian   China     14.46             9.61"
      ]
     },
     "execution_count": 2,
     "metadata": {},
     "output_type": "execute_result"
    }
   ],
   "source": [
    "df.tail()"
   ]
  },
  {
   "cell_type": "code",
   "execution_count": 3,
   "metadata": {},
   "outputs": [
    {
     "data": {
      "text/html": [
       "<div>\n",
       "<style scoped>\n",
       "    .dataframe tbody tr th:only-of-type {\n",
       "        vertical-align: middle;\n",
       "    }\n",
       "\n",
       "    .dataframe tbody tr th {\n",
       "        vertical-align: top;\n",
       "    }\n",
       "\n",
       "    .dataframe thead th {\n",
       "        text-align: right;\n",
       "    }\n",
       "</style>\n",
       "<table border=\"1\" class=\"dataframe\">\n",
       "  <thead>\n",
       "    <tr style=\"text-align: right;\">\n",
       "      <th></th>\n",
       "      <th>avg_temp_xian</th>\n",
       "      <th>avg_temp_global</th>\n",
       "    </tr>\n",
       "    <tr>\n",
       "      <th>year</th>\n",
       "      <th></th>\n",
       "      <th></th>\n",
       "    </tr>\n",
       "  </thead>\n",
       "  <tbody>\n",
       "    <tr>\n",
       "      <th>1820</th>\n",
       "      <td>9.55</td>\n",
       "      <td>7.62</td>\n",
       "    </tr>\n",
       "  </tbody>\n",
       "</table>\n",
       "</div>"
      ],
      "text/plain": [
       "      avg_temp_xian  avg_temp_global\n",
       "year                                \n",
       "1820           9.55             7.62"
      ]
     },
     "execution_count": 3,
     "metadata": {},
     "output_type": "execute_result"
    }
   ],
   "source": [
    "# rename 'avg_temp'\n",
    "df.rename({'avg_temp':'avg_temp_xian'},axis=1,inplace=True)\n",
    "# set column 'year' as index\n",
    "df.index=df['year']\n",
    "# delete unneccesary rows\n",
    "df.drop(['year','city','country'],axis=1, inplace=True)\n",
    "#check the result\n",
    "df.head(1)"
   ]
  },
  {
   "cell_type": "code",
   "execution_count": 4,
   "metadata": {},
   "outputs": [
    {
     "name": "stdout",
     "output_type": "stream",
     "text": [
      "<class 'pandas.core.frame.DataFrame'>\n",
      "Int64Index: 194 entries, 1820 to 2013\n",
      "Data columns (total 2 columns):\n",
      "avg_temp_xian      179 non-null float64\n",
      "avg_temp_global    194 non-null float64\n",
      "dtypes: float64(2)\n",
      "memory usage: 4.5 KB\n"
     ]
    }
   ],
   "source": [
    "df.info()"
   ]
  },
  {
   "cell_type": "code",
   "execution_count": 5,
   "metadata": {},
   "outputs": [
    {
     "data": {
      "text/plain": [
       "avg_temp_xian      15\n",
       "avg_temp_global     0\n",
       "dtype: int64"
      ]
     },
     "execution_count": 5,
     "metadata": {},
     "output_type": "execute_result"
    }
   ],
   "source": [
    "#Check sum of null \n",
    "df.isnull().sum()"
   ]
  },
  {
   "cell_type": "code",
   "execution_count": 6,
   "metadata": {},
   "outputs": [],
   "source": [
    "# Drop null since there is les then 10% of the data\n",
    "df.dropna(inplace=True)"
   ]
  },
  {
   "cell_type": "markdown",
   "metadata": {},
   "source": [
    "<a id='eda'></a>\n",
    "## Exploratory Data Analysis"
   ]
  },
  {
   "cell_type": "code",
   "execution_count": 7,
   "metadata": {},
   "outputs": [
    {
     "data": {
      "text/html": [
       "<div>\n",
       "<style scoped>\n",
       "    .dataframe tbody tr th:only-of-type {\n",
       "        vertical-align: middle;\n",
       "    }\n",
       "\n",
       "    .dataframe tbody tr th {\n",
       "        vertical-align: top;\n",
       "    }\n",
       "\n",
       "    .dataframe thead th {\n",
       "        text-align: right;\n",
       "    }\n",
       "</style>\n",
       "<table border=\"1\" class=\"dataframe\">\n",
       "  <thead>\n",
       "    <tr style=\"text-align: right;\">\n",
       "      <th></th>\n",
       "      <th>avg_temp_xian</th>\n",
       "      <th>avg_temp_global</th>\n",
       "      <th>moving_avg_xian</th>\n",
       "      <th>moving_avg_global</th>\n",
       "    </tr>\n",
       "    <tr>\n",
       "      <th>year</th>\n",
       "      <th></th>\n",
       "      <th></th>\n",
       "      <th></th>\n",
       "      <th></th>\n",
       "    </tr>\n",
       "  </thead>\n",
       "  <tbody>\n",
       "    <tr>\n",
       "      <th>1820</th>\n",
       "      <td>9.55</td>\n",
       "      <td>7.62</td>\n",
       "      <td>NaN</td>\n",
       "      <td>NaN</td>\n",
       "    </tr>\n",
       "    <tr>\n",
       "      <th>1821</th>\n",
       "      <td>11.12</td>\n",
       "      <td>8.09</td>\n",
       "      <td>NaN</td>\n",
       "      <td>NaN</td>\n",
       "    </tr>\n",
       "    <tr>\n",
       "      <th>1822</th>\n",
       "      <td>11.16</td>\n",
       "      <td>8.19</td>\n",
       "      <td>NaN</td>\n",
       "      <td>NaN</td>\n",
       "    </tr>\n",
       "    <tr>\n",
       "      <th>1823</th>\n",
       "      <td>11.76</td>\n",
       "      <td>7.72</td>\n",
       "      <td>NaN</td>\n",
       "      <td>NaN</td>\n",
       "    </tr>\n",
       "    <tr>\n",
       "      <th>1837</th>\n",
       "      <td>21.19</td>\n",
       "      <td>7.38</td>\n",
       "      <td>NaN</td>\n",
       "      <td>NaN</td>\n",
       "    </tr>\n",
       "    <tr>\n",
       "      <th>1840</th>\n",
       "      <td>10.81</td>\n",
       "      <td>7.80</td>\n",
       "      <td>NaN</td>\n",
       "      <td>NaN</td>\n",
       "    </tr>\n",
       "    <tr>\n",
       "      <th>1841</th>\n",
       "      <td>10.26</td>\n",
       "      <td>7.69</td>\n",
       "      <td>12.264286</td>\n",
       "      <td>7.784286</td>\n",
       "    </tr>\n",
       "    <tr>\n",
       "      <th>1842</th>\n",
       "      <td>11.05</td>\n",
       "      <td>8.02</td>\n",
       "      <td>12.478571</td>\n",
       "      <td>7.841429</td>\n",
       "    </tr>\n",
       "    <tr>\n",
       "      <th>1843</th>\n",
       "      <td>11.12</td>\n",
       "      <td>8.17</td>\n",
       "      <td>12.478571</td>\n",
       "      <td>7.852857</td>\n",
       "    </tr>\n",
       "    <tr>\n",
       "      <th>1844</th>\n",
       "      <td>11.01</td>\n",
       "      <td>7.65</td>\n",
       "      <td>12.457143</td>\n",
       "      <td>7.775714</td>\n",
       "    </tr>\n",
       "  </tbody>\n",
       "</table>\n",
       "</div>"
      ],
      "text/plain": [
       "      avg_temp_xian  avg_temp_global  moving_avg_xian  moving_avg_global\n",
       "year                                                                    \n",
       "1820           9.55             7.62              NaN                NaN\n",
       "1821          11.12             8.09              NaN                NaN\n",
       "1822          11.16             8.19              NaN                NaN\n",
       "1823          11.76             7.72              NaN                NaN\n",
       "1837          21.19             7.38              NaN                NaN\n",
       "1840          10.81             7.80              NaN                NaN\n",
       "1841          10.26             7.69        12.264286           7.784286\n",
       "1842          11.05             8.02        12.478571           7.841429\n",
       "1843          11.12             8.17        12.478571           7.852857\n",
       "1844          11.01             7.65        12.457143           7.775714"
      ]
     },
     "execution_count": 7,
     "metadata": {},
     "output_type": "execute_result"
    }
   ],
   "source": [
    "# Calculating 7-year moving average for xian and global data and make it new columns\n",
    "df['moving_avg_xian']=df['avg_temp_xian'].rolling(window=7).mean()\n",
    "df['moving_avg_global']=df['avg_temp_global'].rolling(window=7).mean()\n",
    "df.head(10)"
   ]
  },
  {
   "cell_type": "markdown",
   "metadata": {},
   "source": [
    "###  Data Visualization "
   ]
  },
  {
   "cell_type": "code",
   "execution_count": 8,
   "metadata": {},
   "outputs": [
    {
     "data": {
      "text/plain": [
       "Text(0.5, 1.0, 'Weather Trends')"
      ]
     },
     "execution_count": 8,
     "metadata": {},
     "output_type": "execute_result"
    },
    {
     "data": {
      "image/png": "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\n",
      "text/plain": [
       "<Figure size 1152x576 with 1 Axes>"
      ]
     },
     "metadata": {},
     "output_type": "display_data"
    }
   ],
   "source": [
    "import matplotlib.pyplot as plt\n",
    "%matplotlib inline\n",
    "import seaborn as sns\n",
    "sns.set(style='darkgrid', context='talk', palette='Dark2')\n",
    "\n",
    "fig,ax = plt.subplots(figsize=(16,8))\n",
    "ax.plot(df['moving_avg_xian'], label='moving_avg_xian')\n",
    "ax.plot(df['moving_avg_global'], label='moving_avg_global')\n",
    "\n",
    "ax.legend(loc='best')\n",
    "ax.set_xlabel('Year')\n",
    "ax.set_ylabel('Temparature')\n",
    "ax.set_title('Weather Trends')"
   ]
  },
  {
   "cell_type": "markdown",
   "metadata": {},
   "source": [
    "### Analysis:\n",
    "- Xian’s average temperature is higher than global as the line for Xian is higher; Xian is generally hotter.\n",
    "- The difference between Xian and global has been consistent over time as the gap between the two lines are similar over most of the period.\n",
    "- The overall trend for Xian and global are both increasing; both Xian and global are getting hotter.\n",
    "- There is an exception for the trend. In the earlier few years before 1850, Xian’s temperature was extremely high and then decreasing sharply while globe’s temperature is climbing mildly. There maybe some extreme weather in xian during that time, but as the period is not too long, it does not affect our conclusion for the overall trend.\n",
    "- The increase rate of the temperature is higher in recent few years for both Xian and global. We can see from the chart, roughly after 1985, both lines are increasing quicker, however xian has higher fluctuation which global temperature is going up more stably. "
   ]
  },
  {
   "cell_type": "markdown",
   "metadata": {},
   "source": [
    "## Conclusion\n",
    "> In this project, I analyzed the weather trend using data for Xi’an and Global from the year 1820 to 2013. We can conclude that Xi'an is a hotter place and has higher fluctuation on the weather compared with global average. However, the temperature for both Xian and global are increasing at higher rate in recent years. Furthermore, based on historical trends, we can predict that the future trend will be continuely increasing at higher rate; Our world is facing climate change and protecting the environment is very important."
   ]
  }
 ],
 "metadata": {
  "kernelspec": {
   "display_name": "Python 3",
   "language": "python",
   "name": "python3"
  },
  "language_info": {
   "codemirror_mode": {
    "name": "ipython",
    "version": 3
   },
   "file_extension": ".py",
   "mimetype": "text/x-python",
   "name": "python",
   "nbconvert_exporter": "python",
   "pygments_lexer": "ipython3",
   "version": "3.7.1"
  }
 },
 "nbformat": 4,
 "nbformat_minor": 2
}
